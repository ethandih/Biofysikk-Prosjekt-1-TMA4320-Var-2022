{
 "cells": [
  {
   "cell_type": "markdown",
   "metadata": {
    "cell_id": "70455428-2a42-43d2-abb5-9693d12ea96b",
    "deepnote_cell_type": "markdown",
    "tags": []
   },
   "source": [
    "## Prosjekt 1: Biofysikk\n",
    "###### TMA4320 Introduksjon til vitenskapelige beregninger, vår 2022\n",
    "###### Ethan Dias, Kristian Narten, Bettina Due\n"
   ]
  },
  {
   "cell_type": "markdown",
   "metadata": {
    "cell_id": "87f23a55-1408-40e0-a1ec-c5a95209d565",
    "deepnote_cell_type": "markdown",
    "tags": []
   },
   "source": [
    "### Introduksjon\n",
    "Organeller er elementer av en celle, hver med sine spesifikke oppgaver. Organellene samarbeider med og er avhengig av hverandre. De mest kjente organellene er adskilt fra cytosol ved en cellemembran, men i dette prosjektet skal vi undersøke dannelsen av membranløse strukturer, formet ved spontan væske-væske faseseparasjon fra cellens andre komponenter.\n",
    "\n",
    "Vi skal undersøke de elektrostatiske kreftene som inngår i de membranløse organellene, der kreftenes rekkevidde er redusert i cellens vandige løsning, grunnet høy dielektrisk permittivitet. De elektriske kreftene virker mellom polymerer; molekyler med repeterende enheter - monomerer. Monomerene er bundet sammen med kovalente bindinger, og hver monomer har en ladning, som resulterer i en polymer med mange interraksjonspunkter -> multivalens.\n",
    "\n",
    "Vi skal i dette prosjektet simulere monomer-systemer med $M$ positivt og $M$ negativt ladede monomerer, som kan bevege seg i et todimensjonalt, kvadratisk gitter tilsvarende en $N$x$N$ matrise. Vi benytter Metropolis-algoritmen, som er en Monte Carlo metode, for å beskrive monomer-systemer og deres utvikling over tid numerisk. Dette skal demonstrere betydningen av monomerenes interraksjonspunkter i formeringen av membranløse organeller i systemer bestående av motsatt ladede polymerer, formert av $L$ monomerer."
   ]
  },
  {
   "cell_type": "markdown",
   "metadata": {
    "cell_id": "5c0708c0-81af-4c2e-a41a-cbb5366608e4",
    "deepnote_cell_type": "markdown",
    "tags": []
   },
   "source": [
    "### Monomer-systemer\n",
    "\n",
    "I første oppgave skal vi studere ulike egenskaper ved monomer-systemer, som vi i neste oppgave skal utnytte til å beskrive polymer-systemer. Vi starter med å simulere et enkelt system av monomerer i en løsning, tilsvarende en multivalens $L=1$. Under har vi importert enkelte funksjoner og definert parametere vi opererer med. Modellen som det numeriske systemet beskriver, gjør noen forenklinger av hensyn til programmets kjøretid blant annet ved å sette gitterkonstanten $a_1 = 23 \\mu m$. Vi setter den relative permittiviteten lik den for vann, $\\varepsilon_r=78$, da monomerene befinner seg i en vandig celleløsning."
   ]
  },
  {
   "cell_type": "code",
   "execution_count": 1,
   "metadata": {
    "cell_id": "d3f7c615-1bf1-4136-8d64-570ead2db9f6",
    "deepnote_cell_type": "code",
    "deepnote_to_be_reexecuted": false,
    "execution_millis": 2010,
    "execution_start": 1644840523556,
    "source_hash": "2f609fde",
    "tags": []
   },
   "outputs": [],
   "source": [
    "# Importering av funksjoner og biblioteker\n",
    "\n",
    "import numpy as np\n",
    "import matplotlib.pyplot as plt\n",
    "#fjern #-tegnet hvis numba ikke er installert\n",
    "#%pip install numba\n",
    "from numba import jit\n",
    "from numba.core.errors import NumbaDeprecationWarning, NumbaPendingDeprecationWarning\n",
    "import warnings\n",
    "\n",
    "# ignorerer enkelte advarsler\n",
    "warnings.simplefilter('ignore', category=NumbaDeprecationWarning)\n",
    "warnings.simplefilter('ignore', category=NumbaPendingDeprecationWarning)"
   ]
  },
  {
   "cell_type": "code",
   "execution_count": 2,
   "metadata": {
    "cell_id": "c3b9d844-0626-400f-aa45-ce99aa82dc75",
    "deepnote_cell_type": "code",
    "deepnote_output_heights": [
     194
    ],
    "deepnote_to_be_reexecuted": false,
    "execution_millis": 4,
    "execution_start": 1644840525577,
    "source_hash": "b5de34a3",
    "tags": []
   },
   "outputs": [],
   "source": [
    "# Parametere\n",
    "\n",
    "elem_charge = 1.60217662*10**(-19)     # elementærladning\n",
    "eps_0 = (8.8541878128)*(10**(-12))     # elektrisk permittivitet i vakuum\n",
    "eps_r = 78                             # relativ permittivitet for vann\n",
    "a1 = 23*10**(-6)                       # gitterkonstant for monomer-system\n",
    "a2 = 91*10**(-6)                       # gitterkonstant for polymer-system\n",
    "# konstant benyttet i energiberegning for monomer-system\n",
    "alpha1 = (elem_charge)**2/(4*np.pi*eps_0*eps_r*(a1**2)) \n",
    "# konstant benyttet i energiberegning for polymer-system\n",
    "alpha2 = (elem_charge)**2/(4*np.pi*eps_0*eps_r*(a2**2)) \n",
    "k_b = 1.380649*10**(-23)               # boltzmanns konstant"
   ]
  },
  {
   "cell_type": "markdown",
   "metadata": {
    "cell_id": "543b8ea8-0430-48e5-9782-d5df0192355b",
    "deepnote_cell_type": "markdown",
    "tags": []
   },
   "source": [
    "Vi begynner med å implementere en funksjon som genererer et tilfeldig monomersystem. Funksjonen tar inn størrelsen $N$ og antall monomerer $M$ av hver ladning, og lager en $N$x$N$ matrise, med $M$ positive og $M$ negative monomerer plassert tilfeldig i gitteret."
   ]
  },
  {
   "cell_type": "code",
   "execution_count": 3,
   "metadata": {
    "cell_id": "9f767c42-c001-4bf1-a853-bffc6c4b2338",
    "deepnote_cell_type": "code",
    "deepnote_to_be_reexecuted": false,
    "execution_millis": 37,
    "execution_start": 1644840525597,
    "source_hash": "30208b7c",
    "tags": []
   },
   "outputs": [],
   "source": [
    "# Funksjonen lager et tilfeldig NxN monomersystem med M positive og M negative monomerer\n",
    "@jit(nopython=True)\n",
    "def grid_random_monomers(N,M):\n",
    "    grid = np.zeros((N,N))\n",
    "    charge = (1,-1) # monomerene kan ha ladning +1 eller -1\n",
    "    \n",
    "    for k in range(2): # løkker gjennom to ganger for to ladninger\n",
    "        count = 0\n",
    "        while count != M: # tilfeldig plassering av M monomerer\n",
    "            i = np.random.randint(N)\n",
    "            j = np.random.randint(N)\n",
    "        \n",
    "            if grid[i][j] == 0: # sjekk at tilfeldig plassering ikke allerede er okkupert\n",
    "                grid[i][j] = charge[k]\n",
    "                count += 1\n",
    "    return grid"
   ]
  },
  {
   "cell_type": "markdown",
   "metadata": {
    "cell_id": "66b431a1-84d1-4c30-8976-b0112b1ddb0c",
    "deepnote_cell_type": "markdown",
    "tags": []
   },
   "source": [
    "For å kunne observere funksjonaliteten av koden vi skriver, lager vi en funksjon som kan visualisere et system. Funksjonen benytter matplotlib.pyplot sin innebygde colormesh-funksjon for å visualisere monomer-systemet som angis som parameter. I plottet representerer de gule og lilla boksene henholdsvis positivt og negativt ladde monomerer, mens det blå representerer den vandige celleløsningen med høy dielektrisk permittivitet."
   ]
  },
  {
   "cell_type": "code",
   "execution_count": 4,
   "metadata": {
    "cell_id": "05b9cecf-9291-405b-a562-4ba6d496faaf",
    "deepnote_cell_type": "code",
    "deepnote_output_heights": [
     78.75
    ],
    "deepnote_to_be_reexecuted": false,
    "execution_millis": 1,
    "execution_start": 1644840525687,
    "source_hash": "cebd6e3b",
    "tags": []
   },
   "outputs": [],
   "source": [
    "# Funksjonen visualiserer angitt system ved bruk av innebygd plt.colormesh\n",
    "def visualize_system(grid, fignr, title):\n",
    "    # Henter ut N og M for angitt system\n",
    "    N = len(grid[0])\n",
    "    M = int(len(np.argwhere(grid))/2)\n",
    "    \n",
    "    plt.figure(fignr, figsize=(8,8)) # nummerering av figur, samt kvadratisk størrelse\n",
    "    plt.ylim(N,0)\n",
    "    plt.title(title)\n",
    "    return plt.pcolormesh(grid) "
   ]
  },
  {
   "cell_type": "markdown",
   "metadata": {
    "cell_id": "d8b01e71-ac77-4d27-af89-094550abbda0",
    "deepnote_cell_type": "markdown",
    "tags": []
   },
   "source": [
    "Et tilfeldig monomersystem generert med vår tidligere definerte funksjon vil dermed se følgende ut:"
   ]
  },
  {
   "cell_type": "code",
   "execution_count": 5,
   "metadata": {
    "cell_id": "80b3edf4-b4d4-4c74-905e-b66a3e8d85d4",
    "deepnote_cell_type": "code",
    "deepnote_output_heights": [
     21.1875,
     484
    ],
    "deepnote_to_be_reexecuted": false,
    "execution_millis": 1207,
    "execution_start": 1644840525689,
    "source_hash": "47fe6d6",
    "tags": []
   },
   "outputs": [
    {
     "data": {
      "text/plain": [
       "<matplotlib.collections.QuadMesh at 0x1669f6a6790>"
      ]
     },
     "execution_count": 5,
     "metadata": {},
     "output_type": "execute_result"
    },
    {
     "data": {
      "image/png": "[encoded data removed]",
      "text/plain": [
       "<Figure size 576x576 with 1 Axes>"
      ]
     },
     "metadata": {
      "needs_background": "light"
     },
     "output_type": "display_data"
    }
   ],
   "source": [
    "test_system = grid_random_monomers(10,20)\n",
    "visualize_system(test_system, 0, \"10x10 grid med 20 positive and 20 negative monomerer\")"
   ]
  },
  {
   "cell_type": "markdown",
   "metadata": {
    "cell_id": "403b30b2-1f81-4972-94e2-93a63ce5ee1b",
    "deepnote_cell_type": "markdown",
    "tags": []
   },
   "source": [
    "Monomer-systemets energi og monomerenes mulighet for å bevege seg avhenger av monomerens nærmeste naboer, altså potensielt andre monomerer som befinner seg over, under, til høyre og/eller til venstre. Det er derfor nyttig å definere en funksjon som finner koordinatene til de fire nærmeste naboene til en monomer som befinner seg i $N$x$N$ matrisen med indekser $i$ og $j$. Vi må her også ta hensyn til randbetingelser: vi antar periodiske randbetingelser, hvor vi ser for oss at gitterpunkter sør for den nederste raden tilsvarer den øverste raden, og tilsvarende for den ytterste høyre og venstre kolonnen. Systemet kan da anses å ha form som en torus."
   ]
  },
  {
   "cell_type": "code",
   "execution_count": 6,
   "metadata": {
    "cell_id": "66ff9599-7ce1-4e02-8d91-0557f4934639",
    "deepnote_cell_type": "code",
    "deepnote_output_heights": [
     194
    ],
    "deepnote_to_be_reexecuted": false,
    "execution_millis": 3,
    "execution_start": 1644840526920,
    "source_hash": "9896d4a",
    "tags": []
   },
   "outputs": [],
   "source": [
    "# Funksjonen finner koordinatene til en angitt monomers nærmeste naboer\n",
    "@jit(nopython=True)\n",
    "def nearest_neighbors(N,i,j,grid):\n",
    "    neighbor_array = np.zeros((4,2))\n",
    "    # 0=left, 1=up, 2=right, 3=down\n",
    "    if (j-1) < 0: j0 = N-1\n",
    "    else: j0 = j-1\n",
    "    if (i-1) < 0: i1 = N-1\n",
    "    else: i1 = i-1\n",
    "    if (j+1) >= N: j2 = 0\n",
    "    else: j2 = j+1\n",
    "    if (i+1) >= N: i3 = 0\n",
    "    else: i3 = i+1\n",
    "    # Her har vi tatt hånd om periodiske randbetingelser\n",
    "        \n",
    "    if grid[i,j0]!=0: neighbor_array[0] = [i,j0]\n",
    "    else: neighbor_array[0] = -1\n",
    "    if grid[i1,j]!=0: neighbor_array[1] = [i1,j]\n",
    "    else: neighbor_array[1] = -1\n",
    "    if grid[i,j2]!=0: neighbor_array[2] = [i,j2]\n",
    "    else: neighbor_array[2] = -1\n",
    "    if grid[i3,j]!=0: neighbor_array[3] = [i3,j]\n",
    "    else: neighbor_array[3] = -1\n",
    "    # Dersom det ikke eksisterer en nærmeste nabo i angitt retning, \n",
    "    # definerer vi den tomme koordinaten som [-1,-1]\n",
    "\n",
    "    return neighbor_array\n",
    "\n",
    "# Funksjonen returnerer en array med formen:\n",
    "# [[koord. til venstre nabo], [koord. til øvre nabo], \n",
    "#  [koord. til høyre nabo], [koord. til nedre nabo]]\n",
    "\n",
    "#nearest_neighbors[0] = koordinater til venstre nabo\n",
    "#nearest_neighbors[1] = koordinater til øvre nabo\n",
    "#nearest_neighbors[2] = koordinater til høyre nabo\n",
    "#nearest_neighbors[3] = koordinater til nedre nabo\n",
    "#nearest_neighbors[x][0] = i-koord til nabo\n",
    "#nearest_neighbors[x][1] = j-koord til nabo"
   ]
  },
  {
   "cell_type": "markdown",
   "metadata": {
    "cell_id": "14a7dca3-d702-491c-963b-b3d99a9bb3f4",
    "deepnote_cell_type": "markdown",
    "tags": []
   },
   "source": [
    "Vi kan så finne hva energien er for systemet. Grunnet celleløsningens høye dielektriske permittivitet, gjør vi en antagelse om at kun nærmeste naboer av monomerer bidrar til systemets energi. Energibidraget blir derfor lik 0 dersom nabokoordinaten er $[-1, -1]$, som tilsvarer at det ikke er en monomer-nabo i den retningen. Vi finner naboene fra den øvrige koden, og finner energien til systemet ved å se på interaksjoner mellom hver monomer og dens naboer.\n",
    "\n",
    "Interaksjonen mellom to monomerer:\n",
    "\n",
    "$$\n",
    "V_{kl} = w_k w_l \\frac{e^2}{4 \\pi \\varepsilon_0 \\varepsilon_r a^2} \\frac{a^2}{|r_k - r_l|}\n",
    "= w_k w_l \\alpha \\frac{a^2}{|r_k - r_l|}\n",
    "$$\n",
    "\n",
    "Antar null interaksjon mellom monomerer som ikke er direkte ved siden av hverandre:\n",
    "\n",
    "$$\n",
    "\\Rightarrow V_{kl} = w_k w_l \\alpha \\text{ dersom } r_k \\text { og } r_l \n",
    "\\text{ er nærmeste naboer, } \n",
    "$$\n",
    "$$\n",
    "\\Rightarrow V_{kl}=0 \\text{ ellers}\n",
    "$$\n",
    "\n",
    "Den totale energien for monomer-systemet blir da:\n",
    "\n",
    "$$\n",
    "E = \\sum_{k,l} V_{kl} = \\sum_{k,l} w_k w_l \\alpha\n",
    "$$\n",
    "\n",
    "der $w_k$ og $w_l$ tilsvarer ladningen til hver av de to monomerene som bidrar til energien, med mulige verdier $+1$ eller $-1$, representert med verdien av de gitte indeksene for monomeren i gitter-matrisen."
   ]
  },
  {
   "cell_type": "code",
   "execution_count": 7,
   "metadata": {
    "cell_id": "7d7fd764-1c02-4293-a088-df97e6f8b58a",
    "deepnote_cell_type": "code",
    "deepnote_output_heights": [
     null,
     21.1875
    ],
    "deepnote_to_be_reexecuted": false,
    "execution_millis": 1255,
    "execution_start": 1644840526971,
    "source_hash": "14b40358",
    "tags": []
   },
   "outputs": [
    {
     "name": "stdout",
     "output_type": "stream",
     "text": [
      "Systemet i figuren presentert ovenfor har en energi E = -1.50463e-36 J\n"
     ]
    }
   ],
   "source": [
    "# Funksjonen finner energien for et angitt system\n",
    "@jit(nopython=True)\n",
    "def system_energy(grid):\n",
    "    energi = 0\n",
    "    N = len(grid[0])\n",
    "    for i in range(N):\n",
    "        for j in range(N):\n",
    "            # Vi løkker gjennom hver rad og hver kolonne i matrisen\n",
    "            # Finner naboene til hvert element i matrisen\n",
    "            neighbors = nearest_neighbors(N,i,j,grid)\n",
    "            # Sjekker om det finnes en nabo til høyre\n",
    "            if neighbors[2].all()!=(-1): \n",
    "                energi += grid[i,j]*grid[int(neighbors[2][0]),int(neighbors[2][1])]*alpha1\n",
    "            # Sjekker om det finnes en nabo under\n",
    "            if neighbors[3].all()!=(-1):\n",
    "                energi += grid[i,j]*grid[int(neighbors[3][0]),int(neighbors[3][1])]*alpha1\n",
    "    # Ved å kun regne ut energi mellom elementer til høyre eller under,\n",
    "    # unngår vi å telle med interaksjoner i begge retninger \n",
    "    return energi\n",
    "\n",
    "test_E = system_energy(test_system)\n",
    "print(f\"Systemet i figuren presentert ovenfor har en energi E = {test_E:.5e} J\")"
   ]
  },
  {
   "cell_type": "markdown",
   "metadata": {
    "cell_id": "975c7354-947c-479c-a4a1-92d80690df99",
    "deepnote_cell_type": "markdown",
    "tags": []
   },
   "source": [
    "Vi implementerer så Monte Carlo algoritmen for monomer-systemet vårt. Ett steg i prosessen tilsvarer å velge ut en tilfeldig monomer i systemet, og la den bevege seg i en tilfeldig valgt retning. Bevegelsen tillates hvis og bare hvis den resulterende totalenergien for den nye plasseringen er mindre enn den forrige, eller energidifferansen er mindre enn en bestemt tilfeldig grense, og monomeren vi ønsker å bevege ikke tar plassen til en annen monomer som allerede er på den nye plasseringen. Funksjonen tar inn antall ønskede steg, $N_s$, og temperaturen til systemet, $T$.\n",
    "\n",
    "Fysiske systemer tenderer å innstille seg til en konfigurasjon som minimerer dets energi, så vi tillater derfor bevegelse av en monomer i en bestemt retning dersom:\n",
    "\n",
    "$ \\Delta E = E(\\text{ny monomer posisjon})-E(\\text{gammel monomer posisjon}) < 0 $\n",
    "\n",
    "Vi må også tillate enkelte bevegelser som er energimessig ugunstig, dvs. $\\Delta E>0$, da en monomer likevel kan forflytte seg grunnet termiske svingninger. Her ser vi konsekvensen av systemets temperatur, da vi også tillater bevegelse av en monomer i en bestemt retning dersom:\n",
    "\n",
    "$exp[{-\\frac{1}{k_B T} \\cdot \\Delta E}] = exp[-\\beta \\Delta E] > p $\n",
    "\n",
    "der $p$ er et tilfeldig desimaltall mellom 0 og 1."
   ]
  },
  {
   "cell_type": "code",
   "execution_count": 8,
   "metadata": {
    "cell_id": "62da3342-08a0-4ef1-82b8-3a680a91484f",
    "deepnote_cell_type": "code",
    "deepnote_output_heights": [
     193.875
    ],
    "deepnote_to_be_reexecuted": false,
    "execution_millis": 18,
    "execution_start": 1644840528019,
    "source_hash": "37518b01",
    "tags": []
   },
   "outputs": [],
   "source": [
    "# Funksjonen flytter en monomer i angitt retning dersom ny plassering er ledig\n",
    "@jit(nopython=True)\n",
    "def move_monomer(grid, monomer_pos, direction):\n",
    "    N = len(grid[0])\n",
    "    # Finner koordinatene til naboen i ønsket retning\n",
    "    neighbors = nearest_neighbors(N, monomer_pos[0], monomer_pos[1], grid)\n",
    "    desired_neighbor_coordinate = neighbors[direction]\n",
    "\n",
    "    # Flytter monomeren dersom naboposisjonen er ledig\n",
    "    if int(desired_neighbor_coordinate[0])==(-1) and int(desired_neighbor_coordinate[1])==(-1):\n",
    "        # 0=left, 1=up, 2=right, 3=down\n",
    "        i = int(monomer_pos[0])\n",
    "        j = int(monomer_pos[1])\n",
    "        new_i = i\n",
    "        new_j = j\n",
    "        if direction==0:\n",
    "            if j-1<0: new_j = N-1\n",
    "            else: new_j = j-1\n",
    "        elif direction==1:\n",
    "            if i-1<0: new_i = N-1\n",
    "            else: new_i = i-1\n",
    "        elif direction==2:\n",
    "            if j+1>=N: new_j = 0\n",
    "            else: new_j = j+1\n",
    "        elif direction==3:\n",
    "            if i+1>=N: new_i = 0\n",
    "            else: new_i = i+1\n",
    "        # Tar hånd om periodiske randbetingelser\n",
    "\n",
    "        new_grid = np.zeros((N,N))\n",
    "        for k in range(N):\n",
    "            for l in range(N):\n",
    "                if k==i and l==j:\n",
    "                    if i!=new_i: new_grid[k,l]=0\n",
    "                    elif j!=new_j: new_grid[k,l]=0\n",
    "                    else: new_grid[k,l]=grid[k,l]\n",
    "                elif k==new_i and l==new_j:\n",
    "                    if i!=new_i: new_grid[k,l]=grid[i,l]\n",
    "                    elif j!=new_j: new_grid[k,l]=grid[k,j]\n",
    "                    else: new_grid[k,l]=grid[k,l]\n",
    "                else: new_grid[k,l]=grid[k,l]\n",
    "    else: new_grid = grid\n",
    "    return new_grid\n",
    "\n",
    "# Funksjon for Monte Carlo prosessen for et monomer-system ved temperatur T\n",
    "@jit(nopython=True)\n",
    "def monte_carlo_monomers(N_s,N,M,T, n=0, t_equil=0, t_r=0):\n",
    "    grid = grid_random_monomers(N,M) # Start-system\n",
    "    eps = np.zeros(N_s)\n",
    "    E = system_energy(grid) # Start-energi\n",
    "    eps[0] = E\n",
    "    beta = 1/(k_b*T)\n",
    "    if n!=0:\n",
    "        grid_array = np.zeros((n,N,N))\n",
    "        grid_array[0] = grid\n",
    "    for i in range(1, N_s): # utfører N_s Monte-Carlo-steg\n",
    "        # Finner en tilfeldig monomer i systemet\n",
    "        monomer_coordinates = np.argwhere(grid!=0)\n",
    "        rand = np.random.randint(0,len(monomer_coordinates))\n",
    "        rand_i = monomer_coordinates[rand][0]\n",
    "        rand_j = monomer_coordinates[rand][1]\n",
    "        # Finner en tilfeldig retning, kun horisontal eller vertikal bevegelse\n",
    "        direction = np.random.randint(4)\n",
    "        # 0=left, 1=up, 2=right, 3=down\n",
    "        monomer_pos = [rand_i,rand_j]\n",
    "        # Benytter øvrige funksjon for å flytte den tilfeldige monomeren\n",
    "        new_grid = move_monomer(grid, monomer_pos, direction)\n",
    "        # new_grid vil være lik grid dersom bevegelsen var ulovlig\n",
    "        E_new = system_energy(new_grid)\n",
    "        # E_new vil være lik E dersom bevegelsen var ulovlig\n",
    "        # Tillater så bevegelsen dersom den møter de angitte energikravene\n",
    "        if E_new < E:\n",
    "            grid = new_grid\n",
    "            E = E_new\n",
    "        elif np.random.random() < (np.e**(-beta*(E_new - E))):\n",
    "            grid = new_grid\n",
    "            E = E_new\n",
    "        eps[i] = E\n",
    "        if n!=0:\n",
    "            for t in range(n):\n",
    "                if i == t_equil + t_r*t:\n",
    "                    grid_array[t]=grid\n",
    "    return grid, eps, grid_array\n",
    "# Returnerer slutt-systemet, samt en array av utviklingen av energien for hvert steg\n",
    "# grid_array inneholder konfigurasjonen etter (t_equil+t*t_r) steg for t fra 0 til n"
   ]
  },
  {
   "cell_type": "markdown",
   "metadata": {
    "cell_id": "aa014834-9971-4f1d-a01e-42052a7dd8c0",
    "deepnote_cell_type": "markdown",
    "tags": []
   },
   "source": [
    "Vi ønsker så å observere hvordan monomer-systemet vårt vil utvikle seg. Vi kjører to simulasjoner, begge med samme antall Monte-Carlo-steg $N_s$, størrelse $N$ og antall monomerer av hvert slag $M$, men ulike temperaturer $T_{\\text{høy}}=500K$ og $T_{\\text{lav}}=200K$. Vi visualiserer slutt-systemet av hver simulasjon, samt plotter energiutviklingen for begge systemene i samme figur som en funksjon av $t$, som i programmet tilsvarer antall MC-steg, men i virkeligheten kan anses som tid."
   ]
  },
  {
   "cell_type": "code",
   "execution_count": 9,
   "metadata": {
    "cell_id": "547745db-99e9-4945-a535-6c3c703c0a3b",
    "deepnote_cell_type": "code",
    "deepnote_output_heights": [
     484,
     484,
     493
    ],
    "deepnote_to_be_reexecuted": false,
    "execution_millis": 9253,
    "execution_start": 1644840528041,
    "source_hash": "c56912f3",
    "tags": []
   },
   "outputs": [
    {
     "data": {
      "image/png": "[encoded data removed]",
      "text/plain": [
       "<Figure size 576x576 with 1 Axes>"
      ]
     },
     "metadata": {
      "needs_background": "light"
     },
     "output_type": "display_data"
    },
    {
     "data": {
      "image/png": "[encoded data removed]",
      "text/plain": [
       "<Figure size 576x576 with 1 Axes>"
      ]
     },
     "metadata": {
      "needs_background": "light"
     },
     "output_type": "display_data"
    },
    {
     "data": {
      "image/png": "[encoded data removed]",
      "text/plain": [
       "<Figure size 576x576 with 1 Axes>"
      ]
     },
     "metadata": {
      "needs_background": "light"
     },
     "output_type": "display_data"
    }
   ],
   "source": [
    "# Kjører to simulasjoner, like N_s, N og M, ulik T\n",
    "N_s = 50000\n",
    "N = 15\n",
    "M = 25\n",
    "T_h = 500\n",
    "T_l = 200\n",
    "\n",
    "# Lagrer konfigurasjonene og visualiserer dem for begge simulasjonene\n",
    "grid_T_h, eps_T_h, gridarray_T_h = monte_carlo_monomers(N_s,N,M,T_h)\n",
    "visualize_system(grid_T_h,1,\"Utvikling av monomer-system ved T=500K\")\n",
    "\n",
    "grid_T_l, eps_T_l, gridarray_T_l = monte_carlo_monomers(N_s,N,M,T_l)\n",
    "visualize_system(grid_T_l,2,\"Utvikling av monomer-system ved T=200K\")\n",
    "\n",
    "# Plotter energiutviklingen over tid for begge simulasjonene i samme figur\n",
    "plt.figure(3,figsize=(8,8))\n",
    "t_energy = np.linspace(0, N_s, N_s)\n",
    "plt.plot(t_energy, eps_T_h, label=\"$T = 500 K$\")\n",
    "plt.plot(t_energy, eps_T_l, label=\"$T = 200 K$\")\n",
    "plt.xlabel('time t')\n",
    "plt.ylabel('energy E [J]')\n",
    "plt.grid(True)\n",
    "plt.legend()\n",
    "plt.show()"
   ]
  },
  {
   "cell_type": "markdown",
   "metadata": {
    "cell_id": "749806a6-9e4f-454c-b5cc-e55dc1d8ab08",
    "deepnote_cell_type": "markdown",
    "tags": []
   },
   "source": [
    "Ved å lese av figuren for energiutviklingen, kan vi visuelt estimere hvor mange Monte-Carlo-steg som behøves før systemet når sin likevektstilstand, altså ved hvilken verdi av $t$ systemet oppnår en relativt periodisk svingning om en energi-middelverdi. For $T=500K$ angir vi denne verdien $t_{\\text{equil,h}}\\approx 10000$, og for $T=200K$ angir vi denne verdien $t_{\\text{equil,l}}\\approx 20000$. Vi observerer at\n",
    "\n",
    "$$\n",
    "T_{\\text{høy}}>T_{\\text{lav}} \\quad \\Rightarrow \\quad\n",
    "\\beta_{\\text{høy}}=\\frac{1}{k_B T_{\\text{høy}}} < \\beta_{\\text{lav}}=\\frac{1}{k_B T_{\\text{lav}}}\n",
    "\\quad \\Rightarrow \\quad exp[-\\beta_{\\text{høy}} \\Delta E] > exp[-\\beta_{\\text{lav}} \\Delta E]\n",
    "$$\n",
    "\n",
    "Altså: jo høyere temperatur systemet har, jo større sannsynlighet er det for at programmet vår genererer et tilfeldig tall lavere enn energigrensen, og dermed jo større sannsynlighet er det for at en monomer tillates å bevege seg i en energimessig ugunstig retning. Dermed synker antallet MC-steg nødvendig for å nå en likevektskonfigurasjon med økende temperatur, og det er derfor rimelig at $t_{\\text{equil,h}}<t_{\\text{equil,l}}$."
   ]
  },
  {
   "cell_type": "markdown",
   "metadata": {
    "cell_id": "acc30811-6c94-472f-a643-67fdb699b0d4",
    "deepnote_cell_type": "markdown",
    "tags": []
   },
   "source": [
    "Nå som vi har fått et inntrykk av hvordan et monomer-system opererer, ønsker vi å undersøke formasjonen av aggregater; grupperinger av monomerer. Vi definerer en gruppering som en gruppe monomerer hvor det eksisterer en kontinuerlig sti mellom alle monomerene tilhørende gruppen, der stien er stykkevis horisontal eller vertikal, og ikke på tvers av den vandige celleløsningen.\n",
    "\n",
    "Vi definerer derfor en ny matrise, av tilsvarende størrelse som monomer-posisjons-matrisen, som holder styr på hvor grupperingene befinner seg. På enhver posisjon det befinner seg en monomer i monomer-matrisen, vil det være et positivt tall i den tilsvarende posisjonen i grupperings-matrisen. Hver gruppering representeres da med et unikt positivt tall, så alle monomerer tilhørende den samme grupperingen vil ha det samme positive tallet i grupperings-matrisen."
   ]
  },
  {
   "cell_type": "markdown",
   "metadata": {
    "cell_id": "9ea04183-b034-4de7-8680-94f512aad0f7",
    "deepnote_cell_type": "markdown",
    "tags": []
   },
   "source": [
    "Funksjonen under tar inn et monomer-system, og returnerer det tilhørende grupperings-gitteret. Vi benytter rekursjon for å kunne sjekke naboer til naboer til naboer, osv., og tildeler hver gruppe av sammenhengende monomerer en unik tallverdi. Vi visualiserer så monomer-systemet og det tilhørende grupperings-systemet for MC-simulasjonen ved den lave temperaturen $T_{\\text{lav}}=200K$ under hverandre."
   ]
  },
  {
   "cell_type": "code",
   "execution_count": 10,
   "metadata": {
    "cell_id": "31d42043-df13-4d53-b04c-eb7679ebeba7",
    "deepnote_cell_type": "code",
    "deepnote_output_heights": [
     21.1875,
     484,
     484
    ],
    "deepnote_to_be_reexecuted": false,
    "execution_millis": 4060,
    "execution_start": 1644840717431,
    "source_hash": "367e4d0c",
    "tags": []
   },
   "outputs": [
    {
     "data": {
      "text/plain": [
       "<matplotlib.collections.QuadMesh at 0x166a127a940>"
      ]
     },
     "execution_count": 10,
     "metadata": {},
     "output_type": "execute_result"
    },
    {
     "data": {
      "image/png": "[encoded data removed]",
      "text/plain": [
       "<Figure size 576x576 with 1 Axes>"
      ]
     },
     "metadata": {
      "needs_background": "light"
     },
     "output_type": "display_data"
    },
    {
     "data": {
      "image/png": "[encoded data removed]",
      "text/plain": [
       "<Figure size 576x576 with 1 Axes>"
      ]
     },
     "metadata": {
      "needs_background": "light"
     },
     "output_type": "display_data"
    }
   ],
   "source": [
    "# Funksjonen sjekker naboer, naboer til naboer, osv., via rekursjon\n",
    "# Gir alle monomerer tilhørende samme cluster samme cluster_id\n",
    "@jit(nopython=True)\n",
    "def check_neighboursv3(N,i,j,grid,new_grid,cluster_id,crash_id=0): \n",
    "    #crash id skulle hindre koden i å gjenta seg for mange ganger og kræsje\n",
    "    if i == -1 or j == -1:\n",
    "        return\n",
    "    if grid[i,j] == 0: #hvis det gamle gridet ikke har en monomer\n",
    "        new_grid[i,j] = -99 #det nye gridet blir kopiert\n",
    "        # Velger -99 for å få stor nok kontrast mellom bakgrunnen og monomerene\n",
    "        return\n",
    "    if new_grid[i,j] != 0:\n",
    "        return\n",
    "#    print ('INDEKSER: ', i,j,' ', 'VERDI:', (grid[i,j]), ' ', 'cluster id: ', cluster_id)\n",
    "    if grid[i,j] != 0: #hvis koordinatet på gridet er en monomer:\n",
    "        new_grid[i,j] = cluster_id\n",
    "#        print ('koordinat', i, j, 'har nå cluster_id:', cluster_id)\n",
    "        all_neighbours = nearest_neighbors(N,i,j,grid)\n",
    "#        print (i,j, 'har naboene', all_neighbours)\n",
    "        for k in range (len(all_neighbours)):\n",
    "            x_ny = int(all_neighbours[k,0])\n",
    "            y_ny = int(all_neighbours[k,1])\n",
    "            if new_grid[x_ny, y_ny] != 0: #sjekker om x,y i gridet allerede er sjekket\n",
    "                continue # går til neste nabokoordinat, avslutter iterasjonen\n",
    "            if x_ny == -1:\n",
    "                continue\n",
    "            if y_ny == -1:\n",
    "                continue # gjør ingenting hvis naboen ikke er en monomer.\n",
    "            second(N,x_ny,y_ny,grid,new_grid,cluster_id) \n",
    "        return #går ut av funksjonen etter alle neighbors er sjekket\n",
    "    return #går ut av funksjonen hvis ingenting skjer\n",
    "\n",
    "# jit aksepterer ikke direkte rekursjon, må gå gjennom noen mellomfunksjoner\n",
    "@jit(nopython=True)\n",
    "def second(N,x_ny,y_ny,grid,new_grid,cluster_id):\n",
    "    return third(N,x_ny,y_ny,grid,new_grid,cluster_id)\n",
    "@jit(nopython=True)\n",
    "def third(N,x_ny,y_ny,grid,new_grid,cluster_id):\n",
    "    return check_neighboursv3(N,x_ny,y_ny,grid,new_grid,cluster_id)\n",
    "\n",
    "# Funksjonen tar inn et grid med positive og negative monomerer\n",
    "# Returnerer et cluster-grid hvor monomerer i samme cluster får samme farge\n",
    "@jit(nopython=True)\n",
    "def cluster_gridv3(grid):\n",
    "    N = len(grid[0])\n",
    "    cluster_id = 1\n",
    "    new_grid = np.zeros((N,N))\n",
    "    for i in range(N):\n",
    "        for j in range(N):\n",
    "            if new_grid[i,j] == 0: #hvis indeksene i,j ikke allerede er sjekket fra før:\n",
    "                check_neighboursv3(N,i,j,grid,new_grid,cluster_id)\n",
    "                cluster_id += 1\n",
    "    return new_grid  \n",
    "\n",
    "# Monomersystem og tilhørende clustergrid etter MC-simulasjon ved 200K\n",
    "T_l_MC_clustergrid = cluster_gridv3(grid_T_l)\n",
    "visualize_system(grid_T_l,4, \"Utvikling av monomer-system ved T=200K\")\n",
    "visualize_system(T_l_MC_clustergrid,5,\"Cluster-system, T=200K\")"
   ]
  },
  {
   "cell_type": "markdown",
   "metadata": {
    "cell_id": "44dd7089-4d87-4f48-b036-5bdd5dc9cea7",
    "deepnote_cell_type": "markdown",
    "tags": []
   },
   "source": [
    "En interessant fysisk størrelse å studere for et monomer-system er den middelverdige størrelsen av grupperingene, $\\langle d \\rangle$. Størrelsen av en gruppering defineres som antall monomerer som utgjør grupperingen. Vi må først la systemet nå sin likevekt før vi utfører målingene, så vi benytter MC-funksjonen på et monomer-system, der vi lar \n",
    "\n",
    "$t_{\\text{equil}}(T) = t_{\\text{max }} exp(-s(T - T_l))+C$\n",
    "\n",
    "som er et smult optimistisk estimat for antall MC-steg nødvendig, men garanterer at systemet har nått sin likevekt, samt en rimelig kjøretid. Når vi har utført $t_{\\text{equil}}$ MC-steg, kan vi beregne $\\langle d \\rangle$ som en funksjon av *grid($t$)* ved ulike $t$. Vi starter på $t=t_{\\text{equil}}$, og beregner gjennomsnittet $\\overline{d}$ etter $t_r$ MC-steg $n$ ganger. Til slutt kan vi estimere middelverdien $\\langle d \\rangle$ som $(\\sum\\overline{d})/n$.\n",
    "\n",
    "Vi ser på hvordan klynge-størrelsen vil avhenge av temperatur, ved å plotte $\\langle d \\rangle$ som en funksjon av 10 likefordelte temperaturer mellom $T_l = 100 K$ og $T_h = 1000 K$. Vi kjører simulasjonen to ganger for å se om noen avvik oppstår."
   ]
  },
  {
   "cell_type": "code",
   "execution_count": 11,
   "metadata": {
    "cell_id": "7766d832-ac6e-466a-9704-2696708f1f88",
    "deepnote_cell_type": "code",
    "deepnote_output_heights": [
     482
    ],
    "deepnote_to_be_reexecuted": false,
    "execution_millis": 51875,
    "execution_start": 1644840727673,
    "source_hash": "9e7c981c",
    "tags": []
   },
   "outputs": [
    {
     "data": {
      "image/png": "[encoded data removed]",
      "text/plain": [
       "<Figure size 576x576 with 1 Axes>"
      ]
     },
     "metadata": {
      "needs_background": "light"
     },
     "output_type": "display_data"
    }
   ],
   "source": [
    "# Funksjonen tar inn et cluster-grid av et monomer-system\n",
    "# Returnerer gjennomsnittlig clusterstørrelse i monomer-systemet\n",
    "@jit(nopython=True)\n",
    "def mean_cluster_size(grid):\n",
    "    cluster_ids = []\n",
    "    N = len(grid[0])\n",
    "    for i in range (N):\n",
    "        for j in range(N):\n",
    "            if grid[i,j] > 0:\n",
    "                cluster_ids.append(grid[i,j])\n",
    "    different_cluster_ids = set(cluster_ids) #hvor mange forskjellige clustere det er\n",
    "    antall_clusters = (len(different_cluster_ids)) #totalt antall clustere\n",
    "    cluster_sizes = []\n",
    "    sum_cluster_sizes = 0\n",
    "    for element in different_cluster_ids:\n",
    "        cluster_count = cluster_ids.count(element)\n",
    "        cluster_sizes.append(cluster_count)\n",
    "        sum_cluster_sizes += cluster_count\n",
    "    return (sum_cluster_sizes/antall_clusters)\n",
    "\n",
    "# Funksjonen beregner den middelverdige clusterstørrelsen \n",
    "# Estimeres å være lik \"gjennomsnittet av gjennomsnittene\"\n",
    "@jit(nopython=True)\n",
    "def total_mean_cluster_size():\n",
    "    # Parameter-verdier vi benytter\n",
    "    N = 15\n",
    "    M = 25\n",
    "    T_l = 100\n",
    "    T_h = 1000\n",
    "    T_array = np.linspace(T_l,T_h, 10)\n",
    "    t_max = 10000 #legg til en ekstra 0 når koden fungerer mer effektivt!!!!!!!!\n",
    "    s = (1/200)\n",
    "    C = 10000\n",
    "    t_r = 1000\n",
    "    n = 30\n",
    "    d = np.zeros((len(T_array),n))\n",
    "    avg_size = np.zeros(len(T_array))\n",
    "\n",
    "    # Definerer uttrykket for t_equil\n",
    "    def t_eq(T):\n",
    "        return (t_max*(np.e**(-s*(T-T_l)))+C)\n",
    "\n",
    "    # Finner middelverdig clusterstørrelse for hver av temperaturene\n",
    "    for m in range(len(T_array)):\n",
    "        t_equil = int(np.ceil(t_eq(T_array[m]))) # Steg nødvendig for likevekt\n",
    "        N_s = int(t_equil + t_r*n) # Totalt antall MC-steg\n",
    "        grid_mc, eps_mc, grid_array = monte_carlo_monomers(N_s,N,M,int(T_array[m]),n,t_equil,t_r)\n",
    "        for t in range(len(grid_array)):\n",
    "            clustergrid_mc_step = cluster_gridv3(grid_array[t])\n",
    "            d[m,t] = mean_cluster_size(clustergrid_mc_step)\n",
    "        sum_d=0\n",
    "        for x in range(len(d[m])): sum_d+=d[m,x]\n",
    "        avg_size[m] = (sum_d)/n\n",
    "    return T_array, avg_size\n",
    "\n",
    "T_array, avg_size = total_mean_cluster_size()\n",
    "T_array_new, avg_size_new = total_mean_cluster_size()\n",
    "# Plotter \"mean-cluster-size\" mht. temperatur for to simulasjoner\n",
    "plt.figure(6,figsize=(8,8))\n",
    "plt.plot(T_array, avg_size, label=\"Mean cluster size\")\n",
    "plt.plot(T_array_new, avg_size_new, label=\"Mean cluster size, second simulation\")\n",
    "plt.xlabel('temperature T [K]')\n",
    "plt.ylabel('mean cluster size <d>')\n",
    "plt.grid(True)\n",
    "plt.legend()\n",
    "plt.show()"
   ]
  },
  {
   "cell_type": "markdown",
   "metadata": {
    "cell_id": "19b91de6-8406-4535-b3c8-1e5788904d57",
    "deepnote_cell_type": "markdown",
    "tags": []
   },
   "source": [
    "Vi observerer at $\\langle d \\rangle$ minsker for økende $T$. Vi kan observere dette også fra de to Monte-Carlo-simulasjonene for én lav og én høy temperatur. Dette kan forklares av samme resonnement som hvorfor $t_{\\text{equil,h}}>t_{\\text{equil,l}}$, nemlig at høyere temperatur gir høyere termisk energi, som gir større termiske svingninger, slik at det er større sannsynlighet for at monomerer kan bevege seg i en energimessig ugunstig retning. Dette resulteres i at færre monomerer vil klynge seg sammen for å minimere systemets totale energi, og vi får dermed et lavere estimat for den forventede klynge-størrelsen."
   ]
  },
  {
   "cell_type": "markdown",
   "metadata": {
    "cell_id": "52847c21-53b7-472a-b4c8-d50a80cb593e",
    "deepnote_cell_type": "markdown",
    "tags": []
   },
   "source": [
    "Jo flere målinger $n$ vi utfører, jo mer pålitelige blir resultatene våre, men jo lenger kjøretid påkreves. Hvis vi forsøker å utføre simulasjonen flere ganger, oppdager vi et større avvik mellom forventet klynge-størrelse ved lave temperaturer. Vi observerer derfor at initialbetingelsene, altså det tilfeldige monomer-systemet som genereres, vil ha større betydning for den forventede klynge-størrelsen ved lavere temperaturer enn for høyere temperaturer. Ved enkelte simulasjoner observerte vi også at $\\langle d \\rangle$ kunne øke fra én lavere $T$ til én høyere $T$, noe som motstrider intuisjonen vår. Dette kan forklares ved at sannsynligheten for at enkelt-monomerer, med lang avstand til andre monomerer, vil bevege seg lengre distanser blir lavere jo mindre temperaturen er. Resultatene vil derfor ha større avhengighet av hvor tett monomerene plasseres tilfeldig ved initialisering av systemet for lave temperaturer enn for høye temperaturer."
   ]
  },
  {
   "cell_type": "markdown",
   "metadata": {
    "cell_id": "98f06c16-96e2-4b1c-a5d9-9ca980fb3862",
    "deepnote_cell_type": "markdown",
    "tags": []
   },
   "source": [
    "### Polymer-systemer\n",
    "\n",
    "Monomerer opptrer sjeldent alene. De vil som oftest interagere med andre monomerer, og binde seg sammen til polymerer. Denne tendensen ble vist i simulasjonene i for monomer-systemene, ved at monomerene ofte grupperte seg sammen i klynger for å senke det totale potensialet, og dermed den totale energien i systemet. I polymerer er monomerene bundet sammen med kovalente bindinger, hvor vi i denne oppgaven skal observere hvordan tilkoblingene påvirker aggregat-formering til klynger. Vi vil så evaluere hvordan polymerenes fleksibilitet påvirker denne grupperingen, ved å tillate bevegelser av medium fleksibilitet i polymer-gitteret.\n",
    "\n",
    "Vi beholder den vandige celleløsningens relative dielektriske permittivitet $\\varepsilon_r=78$, men lar nå gitterkonstanten øke til $a_2 = 91 \\mu m$."
   ]
  },
  {
   "cell_type": "markdown",
   "metadata": {
    "cell_id": "9a34abb8-0db7-4a3e-ab15-f3fcce794279",
    "deepnote_cell_type": "markdown",
    "tags": []
   },
   "source": [
    "Vi begynner som for monomer-systemet med å implementere en funksjon som genererer et tilfeldig polymersystem. Funksjonen tar inn størrelsen $N$, antall polymerer $M$ av hver ladning, og antall monomerer per polymer $L$. Funksjonen returnerer en $N$x$N$ matrise, med $2M$ tilfeldig plasserte polymerer, hver med en multivalens $L$."
   ]
  },
  {
   "cell_type": "code",
   "execution_count": 12,
   "metadata": {
    "cell_id": "187e5bee-2987-45ec-a8e7-a9af91100cfb",
    "deepnote_cell_type": "code",
    "deepnote_to_be_reexecuted": false,
    "execution_millis": 0,
    "execution_start": 1644840822569,
    "source_hash": "240f55fa",
    "tags": []
   },
   "outputs": [],
   "source": [
    "#Funksjon som tar in grid, koordiater og retning for å sjekke om det er ledig plass\n",
    "@jit(nopython=True)\n",
    "def valid_expand(grid,i,j,direction):\n",
    "    N = len(grid)                     #retningen fra koordinatene\n",
    "    \n",
    "    if direction == 0: #flytter koordinatene i gitt retning (0=høyre, 1=venstre, 2=opp, 3=ned)\n",
    "        j-=1\n",
    "    elif direction == 1:\n",
    "        i-=1\n",
    "    elif direction == 2:\n",
    "        j+=1\n",
    "    elif direction == 3:\n",
    "        i+=1\n",
    "    \n",
    "    if j == -1: # Her har vi tatt hånd om periodiske randbetingelser\n",
    "        j = N-1\n",
    "    elif i == -1:\n",
    "        i = N-1\n",
    "    elif j == N:\n",
    "        j = 0\n",
    "    elif i == N:\n",
    "        i = 0\n",
    "\n",
    "    if grid[i][j] == 0: \n",
    "        #Hvis ledig posisjon returner funksjonen true og koordinater hvor vi kan plassere\n",
    "        return True, i, j\n",
    "    else: #Ellers gir den false istedenfor (og koordinater slik at det alltid er like mange outputs)\n",
    "        return False, i, j"
   ]
  },
  {
   "cell_type": "code",
   "execution_count": 13,
   "metadata": {
    "cell_id": "6412ed09-57cc-4afc-8d6e-89f85a60d765",
    "deepnote_cell_type": "code",
    "deepnote_to_be_reexecuted": false,
    "execution_millis": 5,
    "execution_start": 1644840828497,
    "source_hash": "d0515626",
    "tags": []
   },
   "outputs": [],
   "source": [
    "# Funksjon for å generere et NxN array med 2M polymerer, \n",
    "# M med postiv ladning og M med negativ, og alle polymerer har multivalens L\n",
    "@jit(nopython=True)\n",
    "def grid_random_polymers(N,M,L): \n",
    "    grid = np.zeros((N,N))\n",
    "    charge = (1,-1) \n",
    "    polymers = [] #Tom grid som skal fylles opp med 2M L*2 arrays,\n",
    "\n",
    "    # Kjører prosesses to ganger, en for de M positive monomerene og en for de M negative\n",
    "    for k in range(2):\n",
    "        count = 0 #Count for hvor mange polymerer som er laget\n",
    "        while count != M: #Loop for å lage M polymerer\n",
    "            i = np.random.randint(N) #Velger et tilfeldig startpunkt\n",
    "            j = np.random.randint(N)\n",
    "            \n",
    "            #sjekker at den tilfeldige posisjonen er ledig, hvis ikke finner en ny\n",
    "            while grid[i,j] != 0:\n",
    "                i = np.random.randint(N) \n",
    "                j = np.random.randint(N)\n",
    "                \n",
    "            grid[i,j] = charge[k] #Setter ladningen til den ledige startposisjonen\n",
    "            count += 1\n",
    "\n",
    "            monomer_pos_array = np.zeros((L,2)) #L*2 array for koordinater til alle L monomerer i en polymer\n",
    "            monomer_pos_array[0] = [i,j] #Setter startposisjonen som første element\n",
    "            \n",
    "            l=0 #Count for hvor mange monomerer som er i polymeren\n",
    "            failsafe = 0 #Count for hvor mange ganger det blir prøvd å plassere en monomer\n",
    "                         #Brukes til å avbryte hvis en polymer ikke har nok plass\n",
    "            while l<L-1: #Loop for å plassere L-1 flere monomerer slik at det blir en polymer\n",
    "                rand = np.random.randint(0,l+1) #Velger en tilfeldig monomer i polymeren\n",
    "                i = int(monomer_pos_array[rand][0]) \n",
    "                j = int(monomer_pos_array[rand][1])\n",
    "                \n",
    "                #Tilfeldig retning: 0=høyre, 1=venstre, 2=opp, 3=ned\n",
    "                direction = np.random.randint(4) \n",
    "                #Sjekker at det er plass til ny monomer\n",
    "                valid, temp_i, temp_j = valid_expand(grid,i,j,direction)\n",
    "                #Om det er plass, plasseres en monomer der. Hvis ikke går loopen om igjen\n",
    "                if valid == True: \n",
    "                    i = temp_i \n",
    "                    j = temp_j\n",
    "                    l += 1\n",
    "                    \n",
    "                    grid[i][j] = charge[k]\n",
    "                    monomer_pos_array[l,0]=i \n",
    "                    monomer_pos_array[l,1]=j\n",
    "                \n",
    "                failsafe +=1\n",
    "                #Avbryter om loopen bruker mange fler iterasjoner enn forventet, f. eks. når et polymer blir fast inni et annet\n",
    "                if failsafe >= L*10**3: \n",
    "                    print('Polymer nummer ',count,' med ladning ',charge[k],' ble sittende fast')\n",
    "                    break\n",
    "            #Legger til den ferdige polymerens koordinater i array\n",
    "            polymers.append(monomer_pos_array)\n",
    "    return grid, polymers"
   ]
  },
  {
   "cell_type": "markdown",
   "metadata": {
    "cell_id": "b614e15e-8ce5-4df5-ab5a-dd78c36a7e96",
    "deepnote_cell_type": "markdown",
    "tags": []
   },
   "source": [
    "Vi visualiserer så et tilfeldig generert polymer-system."
   ]
  },
  {
   "cell_type": "code",
   "execution_count": 14,
   "metadata": {
    "cell_id": "b7ac5c6b-be08-4824-b97b-ae6359d8c7f5",
    "deepnote_cell_type": "code",
    "deepnote_output_heights": [
     null,
     21.1875,
     485
    ],
    "deepnote_to_be_reexecuted": false,
    "execution_millis": 1285,
    "execution_start": 1644840833477,
    "source_hash": "b963cd50",
    "tags": []
   },
   "outputs": [
    {
     "data": {
      "text/plain": [
       "<matplotlib.collections.QuadMesh at 0x166a1450250>"
      ]
     },
     "execution_count": 14,
     "metadata": {},
     "output_type": "execute_result"
    },
    {
     "data": {
      "image/png": "[encoded data removed]",
      "text/plain": [
       "<Figure size 576x576 with 1 Axes>"
      ]
     },
     "metadata": {
      "needs_background": "light"
     },
     "output_type": "display_data"
    }
   ],
   "source": [
    "grid51, polymers51 = grid_random_polymers(100,20,30)\n",
    "visualize_system(grid51,7, '100x100 polymer-system med 20 polymerer av hver ladning, hver bestående av 30 monomerer')"
   ]
  },
  {
   "cell_type": "markdown",
   "metadata": {
    "cell_id": "1647a173-24c8-482c-8e07-d1d26a0e7490",
    "deepnote_cell_type": "markdown",
    "tags": []
   },
   "source": [
    "Vi utvider energi-funksjonen fra tidligere til å kunne beregne energien av et polymer-system. Vi neglisjerer interaksjonen mellom monomerer tilhørende samme polymer, da monomerene er bundet sammen med kovalente bindinger, samt antar null interaksjon mellom polymerer uten noen interaksjonspunkter direkte ved siden av hverandre. Vi undersøker altså kun bidrag til energien fra direkte interaksjoner mellom ulike polymerer, og benytter samme formel for beregning av energien som for monomer-systemet:\n",
    "\n",
    "$$\n",
    "E = \\sum_{k,l} V_{kl} = \\sum_{k,l} w_k w_l \\alpha\n",
    "$$\n",
    "\n",
    "der $\\alpha$ nå inneholder den høyere gitterkonstanten, og verdiene $w_k$ og $w_l$ tilsvarer verdien/ladningen av polymerene som samhandler i gitteret. "
   ]
  },
  {
   "cell_type": "code",
   "execution_count": 15,
   "metadata": {
    "cell_id": "b228fa46-330e-4120-a915-d7701b67cdef",
    "deepnote_cell_type": "code",
    "deepnote_to_be_reexecuted": false,
    "execution_millis": 11,
    "execution_start": 1644840844148,
    "source_hash": "49f665d5",
    "tags": []
   },
   "outputs": [],
   "source": [
    "# Funksjonen finner energien for et angitt system\n",
    "@jit(nopython=True)\n",
    "def system_energy_polymers(grid):\n",
    "    energi = 0\n",
    "    N = len(grid[0])\n",
    "    # Vi løkker gjennom hver rad og hver kolonne i matrisen\n",
    "    for i in range(N):\n",
    "        for j in range(N):\n",
    "            # finner cluster_iden til koordinatet vi skal sjekke rundt\n",
    "            cluster_id_polymer = grid[i,j] \n",
    "            # Finner naboene til hvert element i matrisen\n",
    "            neighbors = nearest_neighbors(N,i,j,grid)\n",
    "            nearest_neighbors_coordinate2x = int(neighbors[2,0])\n",
    "            nearest_neighbors_coordinate2y = int(neighbors[2,1])\n",
    "            nearest_neighbors_coordinate3x = int(neighbors[3,0])\n",
    "            nearest_neighbors_coordinate3y = int(neighbors[3,1])\n",
    "            #finner cluster_id til naboene til høyre og under til koordinatet\n",
    "            nabo2_cluster_id = grid[nearest_neighbors_coordinate2x,nearest_neighbors_coordinate2y]\n",
    "            nabo3_cluster_id = grid[nearest_neighbors_coordinate3x,nearest_neighbors_coordinate3y]\n",
    "            # Legger kun til energien hvis naboen har ulik cluster_id og er en monomer (grid[i,j]!= -1)\n",
    "            # Sjekker om det finnes en nabo til høyre\n",
    "            if neighbors[2].all()!=(-1) and nabo2_cluster_id != cluster_id_polymer: \n",
    "                energi += grid[i,j]*grid[int(neighbors[2][0]),int(neighbors[2][1])]*alpha2\n",
    "            # Sjekker om det finnes en nabo under\n",
    "            if neighbors[3].all()!=(-1) and nabo3_cluster_id != cluster_id_polymer:\n",
    "                energi += grid[i,j]*grid[int(neighbors[3][0]),int(neighbors[3][1])]*alpha2\n",
    "    # Ved å kun regne ut energi mellom elementer til høyre eller under,\n",
    "    # unngår vi å telle med interaksjoner i begge retninger \n",
    "    return energi"
   ]
  },
  {
   "cell_type": "markdown",
   "metadata": {
    "cell_id": "f83512e6-051b-423c-93df-f641ffab9c6f",
    "deepnote_cell_type": "markdown",
    "tags": []
   },
   "source": [
    "I virkeligheten kan polymerer bevege seg fleksibelt i alle retninger, bøyes og vri seg rundt, men det er komplisert å implementere en full realisering av polymerers bevegelighet numerisk. Siden vi er begrenset til et gitter-system, ser vi kun på vertikale eller horisontale bevegelser, og ser bort fra tredimensjonal rotasjon. Vi skal her studere to grader av fleksibilitet i bevegelsen av polymerer, først en rigid bevegelse, så en bevegelse av medium fleksibilitet. "
   ]
  },
  {
   "cell_type": "markdown",
   "metadata": {
    "cell_id": "758fda93-9026-47e0-a8ba-fbe2f64d4f49",
    "deepnote_cell_type": "markdown",
    "tags": []
   },
   "source": [
    "En rigid bevegelse følger kravet om at alle monomerene tilhørende samme polymer beveges i samme retning. Dersom en eller flere av monomerene kolliderer med en annet polymer, avviser vi bevegelsen, og hele polymeren forblir i sin utgangsposisjon. Vi implementerer her en funksjon for rigid bevegelse av en bestemt polymer i en spesifisert retning."
   ]
  },
  {
   "cell_type": "code",
   "execution_count": 16,
   "metadata": {
    "cell_id": "0f0b064c-ca66-44ce-9e32-d1e074b5ef0e",
    "deepnote_cell_type": "code",
    "deepnote_to_be_reexecuted": false,
    "execution_millis": 1,
    "execution_start": 1644840849186,
    "source_hash": "521540bd",
    "tags": []
   },
   "outputs": [],
   "source": [
    "# Funksjon for rigid bevegelse av en polymer i en bestemt retning\n",
    "# Outputet fra funksjonen må brukes for flere bevegelser\n",
    "@jit(nopython=True)\n",
    "def move_rigid(grid, polymer, direction): \n",
    "    #direction: 0 = venstre, 1 = opp, 2 = høyre, 3 = ned\n",
    "    N = len(grid)\n",
    "    L = len(polymer)\n",
    "    # Lagrer en backup av grid og polymerer\n",
    "    new_grid = grid.copy() \n",
    "    new_polymer = polymer.copy()\n",
    "    # finner ladningen til polymeren vi vil flytte\n",
    "    charge1 = grid[int(polymer[0,0]),int(polymer[0,1])]\n",
    "    cancel = np.ones(L,dtype=np.bool_) \n",
    "    # boolean array med L True elementer, en til hver monomer i polymeren\n",
    "    \n",
    "    #Fjerner polymer vi vil flytte slik at den ikke blir blokkert av seg selv\n",
    "    for k in range(L): \n",
    "        i=int(new_polymer[k,0])\n",
    "        j=int(new_polymer[k,1])\n",
    "        new_grid[i,j] = 0\n",
    "    \n",
    "    #Ser om noen av de tidligere monomer-posisjonene har naboer i retningen vi vil\n",
    "    for k in range(L): \n",
    "        i=int(new_polymer[k,0])\n",
    "        j=int(new_polymer[k,1])\n",
    "        if nearest_neighbors(N,i,j,new_grid)[direction][0] !=(-1) or nearest_neighbors(N,i,j,new_grid)[direction][1] != (-1):\n",
    "            # Endrer element k i cancel for å si at bevegelsen vil bli blokkert\n",
    "            cancel[k] = False\n",
    "        else:\n",
    "            continue\n",
    "    \n",
    "    Cancel=True\n",
    "    for c in range(len(cancel)): \n",
    "        if cancel[c]==False: Cancel=False #Ser en av monomerene vil bli blokkert\n",
    "    \n",
    "    if Cancel == False: #Plasserer polymeren tilbake om det er en blokkert bevegelse\n",
    "        for k in range(L):\n",
    "            i=int(new_polymer[k,0])\n",
    "            j=int(new_polymer[k,1])\n",
    "            new_grid[i,j] = charge1\n",
    "    else: #Hvis ingen blir blokkert, beveger den polymeren\n",
    "        for k in range(L): \n",
    "            i=int(new_polymer[k,0])\n",
    "            j=int(new_polymer[k,1])\n",
    "            if direction == 0:\n",
    "                if (j-1)<0: j=N-1\n",
    "                else: j-=1\n",
    "            elif direction == 1:\n",
    "                if (i-1)<0: i=N-1\n",
    "                else: i-=1\n",
    "            elif direction == 2:\n",
    "                if (j+1)>=N: j=0\n",
    "                else: j+=1\n",
    "            elif direction == 3:\n",
    "                if (i+1)>=N: i=0\n",
    "                else: i += 1\n",
    "            new_grid[i,j] = charge1\n",
    "            new_polymer[k,0] = i\n",
    "            new_polymer[k,1] = j\n",
    "    \n",
    "    return new_grid, new_polymer"
   ]
  },
  {
   "cell_type": "markdown",
   "metadata": {
    "cell_id": "c5cd84bf-8f90-431b-acc9-9dc92f21c1b6",
    "deepnote_cell_type": "markdown",
    "tags": []
   },
   "source": [
    "Nå som vi kan definere energien i et polymer-system og bevegelse av polymerer, kan vi implementere Monte Carlo algoritmen for å studere utviklingen av polymer-systemer. Vi benytter samme betingelser for en tillatt bevegelse, nemlig dersom den resulterer i en lavere totalenergi, eller hvis differansen mellom totalenergien for det nye og gamle systemet er under en bestemt grense. Vi utfører så en MC-simulasjon ved $T=200K$ ved bruk av rigid bevegelse for polymerene."
   ]
  },
  {
   "cell_type": "code",
   "execution_count": 17,
   "metadata": {
    "cell_id": "5f9eb572-f29e-4f31-a1e8-e09ceac0d61e",
    "deepnote_cell_type": "code",
    "deepnote_output_heights": [
     21.1875,
     484
    ],
    "deepnote_to_be_reexecuted": false,
    "execution_millis": 8071,
    "execution_start": 1644840986133,
    "source_hash": "53e220f",
    "tags": []
   },
   "outputs": [
    {
     "data": {
      "text/plain": [
       "<matplotlib.collections.QuadMesh at 0x166a2b36880>"
      ]
     },
     "execution_count": 17,
     "metadata": {},
     "output_type": "execute_result"
    },
    {
     "data": {
      "image/png": "[encoded data removed]",
      "text/plain": [
       "<Figure size 576x576 with 1 Axes>"
      ]
     },
     "metadata": {
      "needs_background": "light"
     },
     "output_type": "display_data"
    }
   ],
   "source": [
    "# Funksjon for Monte Carlo prosessen for et polymer-system ved temperatur T\n",
    "@jit(nopython=True)\n",
    "def monte_carlo_polymers(N_s,N,M,L,T,move_type,n=0,t_equil=0,t_r=0): \n",
    "    # move_type lar oss benytte samme funksjon ved enten rigid eller flexibel move\n",
    "    grid, polymers = grid_random_polymers(N,M,L) # Start-system\n",
    "    eps = np.zeros(N_s)\n",
    "    E = system_energy_polymers(grid) # Start-energi\n",
    "    eps[0] = E\n",
    "    beta = 1/(k_b*T)\n",
    "    if n!=0:\n",
    "        grid_array = np.zeros((n,N,N))\n",
    "        grid_array[0] = grid\n",
    "    for i in range(1, N_s): # utfører N_s Monte-Carlo-steg\n",
    "        # Finner en tilfeldig polymer i systemet\n",
    "        rand = np.random.randint(0,len(polymers))\n",
    "        rand_polymer = polymers[rand]\n",
    "        # Finner en tilfeldig retning, kun horisontal eller vertikal bevegelse\n",
    "        # 0=left, 1=up, 2=right, 3=down\n",
    "        direction = np.random.randint(4)\n",
    "        # Benytter øvrige funksjon for å flytte den tilfeldige polymeren\n",
    "        new_grid, new_polymer = move_type(grid, rand_polymer, direction)\n",
    "        # new_grid vil være lik grid dersom bevegelsen var ulovlig\n",
    "        E_new = system_energy_polymers(new_grid)\n",
    "        # E_new vil være lik E dersom bevegelsen var ulovlig\n",
    "        # Tillater så bevegelsen dersom den møter de angitte energikravene\n",
    "        if E_new < E:\n",
    "            grid = new_grid\n",
    "            polymers[rand] = new_polymer\n",
    "            E = E_new\n",
    "        elif np.random.random() < (np.e**(-beta*(E_new - E))):\n",
    "            grid = new_grid\n",
    "            polymers[rand] = new_polymer\n",
    "            E = E_new\n",
    "        eps[i] = E\n",
    "        if n!=0:\n",
    "            for t in range(n):\n",
    "                if i == t_equil + t_r*t:\n",
    "                    grid_array[t]=grid\n",
    "    return grid, polymers, eps, grid_array\n",
    "# Returnerer slutt-systemet, slutt-polymerene, og utviklingen av energien for hvert steg\n",
    "# grid_array inneholder konfigurasjonen etter (t_equil+t*t_r) steg for t fra 0 til n\n",
    "\n",
    "# Kjører en MC-simulasjon med følgende parametere\n",
    "N_s = 30000\n",
    "N = 25            # Fritt valg\n",
    "M = 5             # 2 < M < 6\n",
    "L = 13            # L > 10\n",
    "T = 200\n",
    "# Benytter rigid move\n",
    "grid_mc_rigid, polymers_mc_rigid, eps_mc_rigid, grid_array_rigid = monte_carlo_polymers(N_s,N,M,L,T,move_rigid)\n",
    "visualize_system(grid_mc_rigid,9,\"Utvikling av polymer-system ved T=200K, rigid bevegelse\")"
   ]
  },
  {
   "cell_type": "markdown",
   "metadata": {
    "cell_id": "d11100de-4faf-4224-a4d9-1207a78f7c49",
    "deepnote_cell_type": "markdown",
    "tags": []
   },
   "source": [
    "Liknende monomersystemet, vil vi observere at polymerer av motsatt ladning vil begynne å klynge seg sammen med så mange interaksjonspunkter som mulig, da en slik oppførsel resulterer i en minimal energi. Med rigid bevegelse oppstår det begrensninger for hvor mange interaksjonspunkter to polymerer kan ha, så det vil være noe tomrom av celleløsning mellom polymerene i klyngene. Da det nå kreves en god del flere betingelser for hvordan polymerene kan bevege seg og hvilke interaksjoner som teller med i energiberegningen, vil kjøretiden for koden være noe høyere enn for monomer-systemet."
   ]
  },
  {
   "cell_type": "markdown",
   "metadata": {
    "cell_id": "ed4fbce1-3f17-41d3-83f7-e4f6e09b2c79",
    "deepnote_cell_type": "markdown",
    "tags": []
   },
   "source": [
    "En rigid bevegelse er lettere å implementere numerisk, men er en mindre realistisk simulering av hvordan polymerer faktisk kan bevege seg innad i en celle. Vi implementerer derfor videre en bevegelse med medium fleksibilitet i en spesifisert retning. Bevegelsen følger kravet om at alle monomerer tilhørende samme polymer forsøkes å beveges ett steg i samme horisontale eller vertikale retning. Dersom noen av monomerene i en rad eller kolonne kolliderer med en annet polymer, forblir alle monomerene i de radene/kolonnene som kolliderer i sin utgangsposisjon, mens alle kollisjons-frie rader/kolonner tillates å forflyttes."
   ]
  },
  {
   "cell_type": "markdown",
   "metadata": {
    "cell_id": "87b9e3e0-c63e-4a9e-b7bd-8acaaf9c7ac5",
    "deepnote_cell_type": "markdown",
    "tags": []
   },
   "source": [
    "Når en bevegelse av medium fleksibilitet gjennomføres, er det en sjanse for at polymeren blir ødelagt. Hvis den kontinuerlige stykkevis horisontale eller vertikale stien mellom noen av monomerene tilhørende samme polymer ødelegges, sier vi at polymeren er ødelagt. Vi lager derfor en funksjon som sjekker om en polymer er ødelagt, og benytter denne for å forbedre implementasjonen av bevegelse med medium fleksibilitet. Vi må altså også betinge at bevegelsen kun tillates dersom den forflyttede polymeren ikke blir ødelagt, ellers forblir polymeren i sin utgangsposisjon."
   ]
  },
  {
   "cell_type": "code",
   "execution_count": 18,
   "metadata": {
    "cell_id": "f2e6b036-d4ca-4a1f-b00d-8acc34c03db3",
    "deepnote_cell_type": "code",
    "deepnote_to_be_reexecuted": false,
    "execution_millis": 1,
    "execution_start": 1644841012559,
    "source_hash": "1429ab0",
    "tags": []
   },
   "outputs": [],
   "source": [
    "# Funksjonen finner antall clustere i et polymersystem\n",
    "@jit(nopython=True)\n",
    "def number_of_clusters(grid):\n",
    "    N = len(grid[0])\n",
    "    cluster_ids = np.zeros(N*N)\n",
    "    k=0\n",
    "    for i in range (N):\n",
    "        for j in range(N):\n",
    "            if grid[i,j] > 0:\n",
    "                cluster_ids[k]=(grid[i,j]) \n",
    "                #k blir antall ganger loopen har iterert gjennom en polymerkoordinat\n",
    "                k+=1\n",
    "    different_cluster_ids = set(cluster_ids) #hvor mange forskjellige clustere det er\n",
    "    antall_clusters = (len(different_cluster_ids))-1 #antall clustere totalt\n",
    "    return (antall_clusters)"
   ]
  },
  {
   "cell_type": "code",
   "execution_count": 19,
   "metadata": {
    "cell_id": "a65db4ca-8159-4169-99e9-fdf65bf37878",
    "deepnote_cell_type": "code",
    "deepnote_to_be_reexecuted": false,
    "execution_millis": 8,
    "execution_start": 1644841014863,
    "source_hash": "477d4d23",
    "tags": []
   },
   "outputs": [],
   "source": [
    "# Funksjonen sjekker om en spesifikk polymer i et system er ødelagt\n",
    "@jit(nopython=True)\n",
    "def check_broken_single_polymer(polymer, grid):\n",
    "    N = len(grid[0])\n",
    "    new_grid = np.zeros((N,N)) #lager et nytt grid og limer inn polymeren som er inputet\n",
    "    for j in range(len(polymer)):\n",
    "        x = int(polymer[j][0])\n",
    "        y = int(polymer[j][1])\n",
    "        new_grid[x,y] = 1 \n",
    "        #har verdien 1 på det nye gridet, på alle koordinatene til polymeren\n",
    "    # Bruker cluster_grid for å sjekke om polymeren er 1 cluster. Hvis ikke, er den delt opp.\n",
    "    polymer_in_grid = cluster_gridv3(new_grid) \n",
    "    new_clusters = number_of_clusters(polymer_in_grid)\n",
    "    if new_clusters == 1:\n",
    "        return False  #Polymeren er ikke ødelagt. Returnere new_grid\n",
    "    else:\n",
    "        return True #Polymeren er ødelagt. Returnere old_grid\n"
   ]
  },
  {
   "cell_type": "code",
   "execution_count": 20,
   "metadata": {
    "cell_id": "9c53e356-c10b-403d-a0d2-7fb158ad5732",
    "deepnote_cell_type": "code",
    "deepnote_to_be_reexecuted": false,
    "execution_millis": 33,
    "execution_start": 1644841017505,
    "source_hash": "d5d19426",
    "tags": []
   },
   "outputs": [],
   "source": [
    "#Funksjon for bevegelse av medium fleksibilitet av en polymer i en bestemt retning\n",
    "@jit(nopython=True)\n",
    "def move_med_flex(grid, polymer, direction): #0 = venstre, 1 = opp, 2 = høyre, 3 = ned\n",
    "    N = len(grid)\n",
    "    L = len(polymer)\n",
    "    # Lagrer en backup av grid og polymerer\n",
    "    # Lar oss gå tilbake til orginalen dersom polymeren blir delt\n",
    "    new_grid = grid.copy() \n",
    "    new_polymer = polymer.copy()\n",
    "    #finner ladningen til polymeren vi vil flytte\n",
    "    charge1 = grid[int(polymer[0,0]),int(polymer[0,1])] \n",
    "    cancel = np.ones(L,dtype=np.bool_)\n",
    "    banned = [] \n",
    "    #array som fylles med i-kordinater for raden blir blokkert (eller j-koordinat for kolonner)\n",
    "    \n",
    "    #Fjerner polymeren vi vil flytte slik at det ikke blir blokkert av seg selv\n",
    "    for k in range(L): \n",
    "        i=int(new_polymer[k,0])\n",
    "        j=int(new_polymer[k,1])\n",
    "        new_grid[i,j] = 0\n",
    "    \n",
    "    for k in range(L): #Ser hvilke monomerer som vil bli blokkert\n",
    "        i=int(new_polymer[k,0])\n",
    "        j=int(new_polymer[k,1])\n",
    "        if nearest_neighbors(N,i,j,new_grid)[direction][0] !=(-1) or nearest_neighbors(N,i,j,new_grid)[direction][1] != (-1):\n",
    "            # Endrer element k i cancel for å si at bevegelsen vil bli blokkert\n",
    "            cancel[k] = False\n",
    "        else:\n",
    "            continue\n",
    "            \n",
    "    if direction == 1 or direction == 3: #Om vi beveger oss i j-retning\n",
    "        for k in range(L): #lagrer j-koordinat til alle blokkerte monomerer\n",
    "            if cancel[k] == False:\n",
    "                banned.append(new_polymer[k,1])\n",
    "                \n",
    "        for k in range(L): #Går gjennom alle monomerene i polymeren\n",
    "            if new_polymer[k,1] not in banned: \n",
    "                #Flytter alle monomerer som ikke er i en blokkert kolonne\n",
    "                i=int(new_polymer[k,0])\n",
    "                j=int(new_polymer[k,1])\n",
    "                if direction == 1:\n",
    "                    if (i-1)<0: i = N-1\n",
    "                    else: i -= 1\n",
    "                elif direction == 3:\n",
    "                    if (i+1)>=N: i = 0\n",
    "                    else: i += 1\n",
    "                new_grid[i,j] = charge1\n",
    "                new_polymer[k,0] = i\n",
    "                new_polymer[k,1] = j\n",
    "            else: #Plasserer alle monomerer i blokkert kolonne på samme plass som de var\n",
    "                i=int(new_polymer[k,0])\n",
    "                j=int(new_polymer[k,1])\n",
    "                new_grid[i,j] = charge1\n",
    "                new_polymer[k,0] = i\n",
    "                new_polymer[k,1] = j\n",
    "                \n",
    "    if direction == 0 or direction == 2: #Om vi beveger oss i i-retning\n",
    "        for k in range(L): #lagrer i-koordinat til alle blokkerte monomerer\n",
    "            if cancel[k] == False:\n",
    "                banned.append(new_polymer[k,0])\n",
    "        \n",
    "        for k in range(L): #Går gjennom alle monomerene i polymeren\n",
    "            if new_polymer[k,0] not in banned:\n",
    "                #Flytter alle monomerer som ikke er i en blokkert rad\n",
    "                i=int(new_polymer[k,0])\n",
    "                j=int(new_polymer[k,1])\n",
    "                if direction == 0:\n",
    "                    if(j-1)<0: j = N-1\n",
    "                    else: j -= 1\n",
    "                elif direction == 2:\n",
    "                    if(j+1)>=N: j = 0\n",
    "                    else: j += 1\n",
    "                new_grid[i,j] = charge1\n",
    "                new_polymer[k,0] = i\n",
    "                new_polymer[k,1] = j\n",
    "            else: #Plasserer alle monomerer i blokkert rad på samme plass som de var\n",
    "                i=int(polymer[k,0])\n",
    "                j=int(polymer[k,1])\n",
    "                new_grid[i,j] = charge1\n",
    "                new_polymer[k,0] = i\n",
    "                new_polymer[k,1] = j\n",
    "    \n",
    "    #Sjekker om polymeren er blitt ødelagt\n",
    "    if check_broken_single_polymer(new_polymer,new_grid) == False:\n",
    "        return new_grid, new_polymer\n",
    "    else:\n",
    "        return grid, polymer"
   ]
  },
  {
   "cell_type": "markdown",
   "metadata": {
    "cell_id": "8698ba3e-50f2-43e4-a0fe-d39df4c0e3c8",
    "deepnote_cell_type": "markdown",
    "tags": []
   },
   "source": [
    "Vi gjentar Monte-Carlo-simulasjonen for å studere utviklingen av polymersystemer, nå ved bruk av medium fleksibilitet bevegelse, fortsatt ved $T=200K$ og tilsvarende andre parametere. Vi visualiserer systemene for både rigid og medium fleksibel bevegelse for sammenlikning, og plotter energiutviklingen som funksjon av antall MC-steg for begge simulasjonene."
   ]
  },
  {
   "cell_type": "code",
   "execution_count": 21,
   "metadata": {
    "cell_id": "b31acc61-288e-4493-b4f1-16e4ec8c4f03",
    "deepnote_cell_type": "code",
    "deepnote_output_heights": [
     484,
     484,
     493
    ],
    "deepnote_to_be_reexecuted": false,
    "execution_millis": 12403,
    "execution_start": 1644841022627,
    "source_hash": "d8d1bd2e",
    "tags": []
   },
   "outputs": [
    {
     "data": {
      "image/png": "[encoded data removed]",
      "text/plain": [
       "<Figure size 576x576 with 1 Axes>"
      ]
     },
     "metadata": {
      "needs_background": "light"
     },
     "output_type": "display_data"
    },
    {
     "data": {
      "image/png": "[encoded data removed]",
      "text/plain": [
       "<Figure size 576x576 with 1 Axes>"
      ]
     },
     "metadata": {
      "needs_background": "light"
     },
     "output_type": "display_data"
    },
    {
     "data": {
      "image/png": "[encoded data removed]",
      "text/plain": [
       "<Figure size 576x576 with 1 Axes>"
      ]
     },
     "metadata": {
      "needs_background": "light"
     },
     "output_type": "display_data"
    }
   ],
   "source": [
    "# Kjører en ny MC-simulasjon, samme parametre\n",
    "N_s = 30000\n",
    "N = 25            # Fritt valg\n",
    "M = 5             # 2 < M < 6\n",
    "L = 13            # L > 10\n",
    "T = 200\n",
    "# Benytter medium flexible move\n",
    "grid_mc_flex, polymers_mc_flex, eps_mc_flex, grid_array_flex = monte_carlo_polymers(N_s,N,M,L,T,move_med_flex)\n",
    "visualize_system(grid_mc_flex,13,\"Utvikling av polymer-system ved T=200K, fleksibel bevegelse\")\n",
    "visualize_system(grid_mc_rigid,14,\"Utvikling av polymer-system ved T=200K, rigid bevegelse\")\n",
    "\n",
    "# Plotter energiutviklingen over tid for begge simulasjonene i samme figur\n",
    "plt.figure(15,figsize=(8,8))\n",
    "t_energy = np.linspace(0, N_s, N_s)\n",
    "plt.plot(t_energy, eps_mc_flex, label=\"medium flexible move\")\n",
    "plt.plot(t_energy, eps_mc_rigid, label=\"rigid move\")\n",
    "plt.xlabel('time t')\n",
    "plt.ylabel('energy E [J]')\n",
    "plt.grid(True)\n",
    "plt.legend()\n",
    "plt.show()"
   ]
  },
  {
   "cell_type": "markdown",
   "metadata": {
    "cell_id": "4b09b4e2-06f3-4f03-937d-f42b5a2bf026",
    "deepnote_cell_type": "markdown",
    "tags": []
   },
   "source": [
    "Til tross for at intitalsystemene for de to simulasjonene er ulike, oppdager vi ved gjentatte kjøringer av koden at polymersystemet som kan bevege seg med medium fleksibilitet vil stabilisere seg ved en lavere energi enn polymersystemet som kan bevege seg rigid. Dette skyldes at med mer fleksibilitet, kan polymerer av motsatt ladning oppnå flere interaksjonspunkter, som resulterer i en lavere totalenergi for systemet. Energidifferansen mellom systemene er likevel ikke betydelig stor, da vi ikke har implementert en bevegelse av full fleksibilitet, og polymersystemer i virkeligheten vil alså kunne oppnå enda lavere energi."
   ]
  },
  {
   "cell_type": "markdown",
   "metadata": {
    "cell_id": "8ce8638e-86f3-4abe-b7fc-086642f67722",
    "deepnote_cell_type": "markdown",
    "tags": []
   },
   "source": [
    "Som nevnt i introduksjon, er det væske-væske faseseparasjon som driver formeringen av membranløse organeller. De dråpe-liknende organellene består av en høy konsentrasjon av biopolymerer. Størrelsen av disse polymerene, som avhenger av multivalensen, påvirker grupperingene som oppstår, og dermed også formeringen av organeller. I vår siste simulasjon ønsker vi derfor å beregne to fysiske størrelsen relatert til faseseparasjonen, som en funksjon av multivalensen $L$; den gjennomsnittlige klynge-størrelsen delt på multivalensen, $\\langle d \\rangle$/$L$, og det gjennomsnittlige antallet grupperinger, $\\langle m \\rangle$. Hver gruppering vil her representere en organelle i cellen. Vi plotter størrelsene over 13 likefordelte verdier av $L$ mellom 3 og 39, og beregner størrelsene fra MC-simulasjoner ved bevegelser av medium fleksibilitet."
   ]
  },
  {
   "cell_type": "markdown",
   "metadata": {
    "cell_id": "186f9471-890c-4b6b-8588-a13ba18e7bfb",
    "deepnote_cell_type": "markdown",
    "tags": []
   },
   "source": [
    "Fra MC-simulasjonen for et polymersystem som kan bevege seg med medium fleksibilitet, kan vi lese av fra figuren av energiutviklingen at systemet vil nå en likevektskonfigurasjon etter kun noen tusen MC-steg. For å være sikker på at systemet har nådd likevekt før vi begynner målingene, men uten at kjøretiden blir for lang, lar vi $t_{equil}=8000$. Jo flere målinger $n$ vi utfører, jo mer pålitelige blir resultatene våre, men jo lengre blir kjøretiden. Da figuren for energiutviklingen hinter til en smule mindre variasjon om likevektsverdien enn vi fikk for monomer-systemet, tillater vi oss en litt lavere verdi av antall målinger, og lar $n=20$."
   ]
  },
  {
   "cell_type": "code",
   "execution_count": 22,
   "metadata": {
    "cell_id": "7c09a910-7f92-41e4-ba18-4c040acccdea",
    "deepnote_cell_type": "code",
    "deepnote_output_heights": [
     21.1875,
     482
    ],
    "deepnote_to_be_reexecuted": false,
    "execution_millis": 106773,
    "execution_start": 1644843990674,
    "source_hash": "bfdde900",
    "tags": []
   },
   "outputs": [
    {
     "data": {
      "image/png": "[encoded data removed]",
      "text/plain": [
       "<Figure size 576x576 with 1 Axes>"
      ]
     },
     "metadata": {
      "needs_background": "light"
     },
     "output_type": "display_data"
    }
   ],
   "source": [
    "# Lager en egen count-funksjon, da list.count() ikke støttes av jit\n",
    "@jit(nopython=True)\n",
    "def count(element,seq):\n",
    "    count = 0\n",
    "    for i in seq:\n",
    "        if  element == i:\n",
    "            count += 1\n",
    "    return count\n",
    "\n",
    "# Funksjonen beregner gjennomsnittlig cluster-størrelse\n",
    "@jit(nopython=True)\n",
    "def mean_cluster_polymer_size(grid):\n",
    "    N = len(grid[0])\n",
    "    cluster_ids = np.zeros(N*N)\n",
    "    k=0\n",
    "    for i in range (N):\n",
    "        for j in range(N):\n",
    "            if grid[i,j] > 0:\n",
    "                cluster_ids[k]=(grid[i,j]) \n",
    "                #k blir antall ganger loopen har iterert gjennom en polymerkoordinat\n",
    "                k+=1\n",
    "    different_cluster_ids = set(cluster_ids) #hvor mange forskjellige clustere det er\n",
    "    antall_clusters = (len(different_cluster_ids))-1 #antall clustere totalt\n",
    "    \n",
    "    cluster_sizes = []\n",
    "    sum_cluster_sizes = 0\n",
    "    for element in different_cluster_ids:\n",
    "        cluster_count = count(element,cluster_ids)\n",
    "        cluster_sizes.append(cluster_count)\n",
    "        sum_cluster_sizes += cluster_count\n",
    "    return (sum_cluster_sizes/antall_clusters),antall_clusters\n",
    "\n",
    "# Funksjonen beregner den middelverdige clusterstørrelsen \n",
    "# Estimeres å være lik \"gjennomsnittet av gjennomsnittene\"\n",
    "@jit(nopython=True)\n",
    "def total_mean_cluster_polymer_size():\n",
    "    # Parameter-verdier vi benytter\n",
    "    T = 300\n",
    "    N = 30\n",
    "    M = 5\n",
    "    t_r = 1000\n",
    "    t_equil = 8000 #valgt selv, kan endre\n",
    "    n = 20 #valgt selv, kan endre\n",
    "    L_array = np.linspace(3,39, 13)\n",
    "    d = np.zeros((len(L_array),n))\n",
    "    avg_d = np.zeros(len(L_array))\n",
    "    m = np.zeros((len(L_array),n))\n",
    "    avg_m = np.zeros(len(L_array))\n",
    "\n",
    "    # Finner middelverdig clusterstørrelse for hver av temperaturene\n",
    "    for q in range(len(L_array)):\n",
    "        N_s = int(t_equil + t_r*n) # Totalt antall MC-steg\n",
    "        grid_mc, eps_mc, polymers_mc, grid_array = monte_carlo_polymers(N_s,N,M,int(L_array[q]),T,move_med_flex,n,t_equil,t_r)\n",
    "        for t in range(len(grid_array)):\n",
    "            clustergrid_mc_step = cluster_gridv3(grid_array[t])\n",
    "            d[q,t],m[q,t] = mean_cluster_polymer_size(clustergrid_mc_step)\n",
    "        sum_d=0\n",
    "        sum_m=0\n",
    "        for x in range(len(d[q])): sum_d+=d[q,x]\n",
    "        for y in range(len(m[q])): sum_m+=m[q,y]\n",
    "        avg_d[q] = ((sum_d)/n)/(L_array[q])\n",
    "        avg_m[q] = (sum_m)/n\n",
    "    return L_array, avg_d, avg_m\n",
    "\n",
    "L_array, avg_d, avg_m = total_mean_cluster_polymer_size()\n",
    "# Plotter <d>/L og <m> mht. multivalensen\n",
    "plt.figure(16,figsize=(8,8))\n",
    "plt.plot(L_array, avg_d, label=\"Mean cluster size per multivalency <d>/L\")\n",
    "plt.plot(L_array, avg_m, label=\"Mean number of clusters <m>\")\n",
    "plt.xlabel('multivalency L')\n",
    "plt.ylabel('mean cluster size <d>/L // mean number of clusters <m>')\n",
    "plt.grid(True)\n",
    "plt.legend()\n",
    "plt.show()"
   ]
  },
  {
   "cell_type": "markdown",
   "metadata": {
    "cell_id": "7771fc71-0107-4bd1-9d91-2add27d07208",
    "deepnote_cell_type": "markdown",
    "tags": []
   },
   "source": [
    "Vi observerer at jo større multivalens $L$ vi har, jo færre gjennomsnittlig antall grupperinger $\\langle m \\rangle$ vil vi ha. Dette gir intuitivt mening, da større polymerer vil okkupere et større volum i gridet, og dermed ha mindre avstand til andre polymerer. Da øker sannsynligheten for at en bevegelse vil resultere i en lavere energi, ved at to polymerer av motsatt ladning møtes. Vi får dermed færre enkelt-polymerer, samt et høyere antall polymerer/monomerer per gruppering, og dermed et lavere gjennomsnittlig antall klynger. Et høyere antall polymerer/monomerer per gruppering vil også resultere i en økende verdi av $\\langle d \\rangle$/$L$, men denne effekten ser vi ikke før polymerene har oppnådd en proposjonalt stor nok $L$ i forhold til størrelsen $N$ på gridet. \n",
    "\n",
    "Ved rigid bevegelse vil vi få noe færre interaksjonspunkter, samt mindre tettpakning av polymerer, så da ville klyngene oppta større plass, og vi ville fått flere polymerer per klynge, og derfor en økt $\\langle d \\rangle$/$L$. Initialkonfigurasjonen vil også ha større betydning ved lavere $L$, da både $\\langle m \\rangle$ og $\\langle d \\rangle$/$L$ vil avhenge av hvor nærme de ulike polymerene befinner seg hverandre ved initialiseringen av systemet.\n",
    "\n",
    "Til slutt vil vi vurdere hvordan de andre parameterene vil påvirke formeringen av aggregater/organeller. Et større system, altså en større $N$, vil resultere i større initiell avstand mellom polymerer, som gjør det vanskeligere for de kortrekkende elektrostatiske kreftene å påvirke systemet, og vi får et færre antall klynger. Jo høyere antall polymerer $M$ et system starter med, jo nærmere vil polymerene befinne seg hverandre, og jo økende antall klynger vil vi kunne få. Jo høyere temperatur $T$, jo mer sannsynlig er det at polymerene beveger seg i en energimessig ugunstig retning, og jo færre klynger vil resultere. Og sist, jo høyere gitterkonstant $a$ systemet har, jo mindre blir $\\alpha$ som er proposjonal med energibidraget, som resulterer i en mindre $\\Delta E$, og derfor en mindre sannsynlighet for energimessig ugunstige bevegelser, som igjen bidrar til flere klynger."
   ]
  },
  {
   "cell_type": "markdown",
   "metadata": {
    "cell_id": "ff14ff00-a596-413b-bef5-05873cafa4f6",
    "deepnote_cell_type": "markdown",
    "tags": []
   },
   "source": [
    "### Konklusjon\n",
    "\n",
    "Vi har i dette prosjektet studert en numerisk tilnærming av egenskaper ved og oppførsel til systemer av monomerer og polymerer. Vi har fått et inntrykk av hvordan energiberegning, elektrostatiske krefter, temperatur og andre faktorer dikterer hvordan systemene vil utvikle seg over tid, og gruppere seg sammen til klynger som utgjør de livsviktige membranløse organellene en celle består av. Selv om vi har gjort enkelte antakelser og forenklinger, har dette prosjektet gitt oss et godt inntrykk av hva slags prosesser foregår på et mikroskopisk nivå, og hvordan vi kan utnytte numerikk og programmering for å studere og visualisere disse prosessene. "
   ]
  }
 ],
 "metadata": {
  "deepnote": {
   "is_reactive": false
  },
  "deepnote_execution_queue": [],
  "deepnote_notebook_id": "fca9698a-a144-44f2-8fe9-004054ed1ed1",
  "kernelspec": {
   "display_name": "Python 3",
   "language": "python",
   "name": "python3"
  },
  "language_info": {
   "codemirror_mode": {
    "name": "ipython",
    "version": 3
   },
   "file_extension": ".py",
   "mimetype": "text/x-python",
   "name": "python",
   "nbconvert_exporter": "python",
   "pygments_lexer": "ipython3",
   "version": "3.8.3"
  }
 },
 "nbformat": 4,
 "nbformat_minor": 2
}
